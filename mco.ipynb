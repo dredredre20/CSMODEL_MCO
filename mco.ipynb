{
 "cells": [
  {
   "cell_type": "markdown",
   "id": "31db7202",
   "metadata": {},
   "source": [
    "# Job Posting Data Analysis\n",
    "In this notebook, thr group will be using the dataset - the [Job Posting](https://www.kaggle.com/datasets/techsalerator/job-posting-data-in-singapore) data. Will be used for processing, analyzing, and visualizing for MCO1.\n",
    "\n",
    "This MCO will be conducted by the DS NERDS, consisting of the following:\n",
    "Chu, Andre Benedict M.\n",
    "Rocha, Angelo H.\n",
    "Colobong, Franz Andrick\n",
    "Pineda, Mark Gabriel A.\n",
    "\n",
    "From the course CSMODEL S19.\n"
   ]
  },
  {
   "cell_type": "markdown",
   "id": "f4ec2063",
   "metadata": {},
   "source": [
    "## Description of the Data and How it was Collected"
   ]
  },
  {
   "cell_type": "markdown",
   "id": "ba1d69f9",
   "metadata": {},
   "source": [
    "## Potential Implications of the Data"
   ]
  },
  {
   "cell_type": "markdown",
   "id": "b035ce97",
   "metadata": {},
   "source": [
    "## Structure of the Data"
   ]
  },
  {
   "cell_type": "markdown",
   "id": "5e0f36e1",
   "metadata": {},
   "source": [
    "## Different Attributes of the Data"
   ]
  },
  {
   "cell_type": "markdown",
   "id": "acb58972",
   "metadata": {},
   "source": [
    "## General Research Question "
   ]
  },
  {
   "cell_type": "code",
   "execution_count": null,
   "id": "b542a2c8",
   "metadata": {},
   "outputs": [],
   "source": [
    "# Checking for Multiple Data Representation of the same Categorical Values"
   ]
  },
  {
   "cell_type": "code",
   "execution_count": null,
   "id": "a7685706",
   "metadata": {},
   "outputs": [],
   "source": [
    "# Checking for Incorrect Datatypes"
   ]
  },
  {
   "cell_type": "code",
   "execution_count": null,
   "id": "d932e268",
   "metadata": {},
   "outputs": [],
   "source": [
    "# Checking for Missing/Null Values"
   ]
  },
  {
   "cell_type": "code",
   "execution_count": null,
   "id": "053be0d5",
   "metadata": {},
   "outputs": [],
   "source": [
    "# Checking for Duplicate Data"
   ]
  },
  {
   "cell_type": "code",
   "execution_count": null,
   "id": "14719175",
   "metadata": {},
   "outputs": [],
   "source": [
    "# Checking for Inconsistent Data"
   ]
  },
  {
   "cell_type": "code",
   "execution_count": null,
   "id": "a5b2ba7c",
   "metadata": {},
   "outputs": [],
   "source": [
    "# Checking for Outliers"
   ]
  },
  {
   "cell_type": "markdown",
   "id": "d4f1f871",
   "metadata": {},
   "source": [
    "## Matplotlibs Charts Visualization"
   ]
  },
  {
   "cell_type": "markdown",
   "id": "774fcc47",
   "metadata": {},
   "source": [
    "### EDA Question 1\n",
    "\n",
    "Both formulaion and answer in the same cell"
   ]
  },
  {
   "cell_type": "markdown",
   "id": "851916b8",
   "metadata": {},
   "source": [
    "### EDA Question 2"
   ]
  },
  {
   "cell_type": "markdown",
   "id": "96c384ab",
   "metadata": {},
   "source": [
    "### EDA Question 3"
   ]
  }
 ],
 "metadata": {
  "kernelspec": {
   "display_name": "Python 3",
   "language": "python",
   "name": "python3"
  },
  "language_info": {
   "name": "python",
   "version": "3.13.3"
  }
 },
 "nbformat": 4,
 "nbformat_minor": 5
}
