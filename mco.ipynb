{
 "cells": [
  {
   "cell_type": "markdown",
   "id": "31db7202",
   "metadata": {},
   "source": [
    "# Job Posting Data Analysis\n",
    "In this notebook, the group will be working with the [Job Posting in Singapore](https://www.kaggle.com/datasets/techsalerator/job-posting-data-in-singapore) dataset. This dataset will be used for processing, analyzing, and visualizing data.\n",
    "\n",
    "This project is carried out by the group **DS NERDS**, under Section **S19**, which consists of the following members:\n",
    "- Colobong, Franz Andrick\n",
    "- Chu, Andre Benedict M. \n",
    "- Pineda, Mark Gabriel A.\n",
    "- Rocha, Angelo H. \n",
    "  \n",
    "The output fulfulls part of the requirements for the course Statistical Modeling and Simulation (CSMODEL). \n"
   ]
  },
  {
   "cell_type": "markdown",
   "id": "8457d5ab",
   "metadata": {},
   "source": [
    "# Import Libraries"
   ]
  },
  {
   "cell_type": "code",
   "execution_count": null,
   "id": "d1dad24c",
   "metadata": {},
   "outputs": [],
   "source": [
    "import pandas as pd\n",
    "import numpy as np\n",
    "import matplotlib.pyplot as plt"
   ]
  },
  {
   "cell_type": "markdown",
   "id": "f4ec2063",
   "metadata": {},
   "source": [
    "## Dataset Description and Collection Process"
   ]
  },
  {
   "cell_type": "markdown",
   "id": "79b55163",
   "metadata": {},
   "source": [
    "This dataset offers a comprehensive overview of job openings across various sectors in Singapore. It provides an essential resource for businesses, job seekers, and labor market analysts, and it can also be a valuable tool for people who would like to be informed about job openings and employment trends in Singapore.\n",
    "\n",
    "The data was collected by a global data provider called **Techsalerator**, by consolidating and categorizing job-related information from diverse sources, including company websites, job boards, and recruitment agencies. \n",
    "\n",
    "Now, let us load the CSV file into our workspace with **'latin1'** encoding as it contains special characters (e.g., é, ñ, ’) that caused a UnicodeDecodeError with the default **'utf-8'** encoding."
   ]
  },
  {
   "cell_type": "code",
   "execution_count": null,
   "id": "3505f99e",
   "metadata": {},
   "outputs": [],
   "source": [
    "job_posting_df = pd.read_csv('Job Posting.csv', encoding='latin1')\n",
    "job_posting_df.head()"
   ]
  },
  {
   "cell_type": "markdown",
   "id": "ba1d69f9",
   "metadata": {},
   "source": [
    "## Potential Implications of the Data"
   ]
  },
  {
   "cell_type": "markdown",
   "id": "b035ce97",
   "metadata": {},
   "source": [
    "## Structure of the Data"
   ]
  },
  {
   "cell_type": "markdown",
   "id": "5e0f36e1",
   "metadata": {},
   "source": [
    "## Key Data Fields "
   ]
  },
  {
   "cell_type": "markdown",
   "id": "b5679b75",
   "metadata": {},
   "source": [
    "This section provides a brief description of the key attributes present in the dataset:\n",
    "\n",
    "\n",
    "- **Job Posting Date**: Captures the date a job is listed. This is crucial for job seekers and HR professionals to stay updated on the latest opportunities and trends.\n",
    "\n",
    "- **Job Title**: Specifies the position being advertised. This helps in categorizing and filtering job openings based on industry roles and career interests.\n",
    "\n",
    "- **Company Name**: Lists the hiring company. This information assists job seekers in targeting their applications and helps businesses track competitors and market trends.\n",
    "\n",
    "- **Job Location**: Provides the job's geographic location within Singapore. Job seekers use this to find opportunities in specific areas, while employers analyze regional talent and market conditions.\n",
    "\n",
    "- **Job Description**: Includes details about responsibilities, required qualifications, and other relevant aspects. This is vital for candidates to determine if they meet the requirements and for recruiters to communicate expectations clearly."
   ]
  },
  {
   "cell_type": "markdown",
   "id": "acb58972",
   "metadata": {},
   "source": [
    "## General Research Question "
   ]
  },
  {
   "cell_type": "code",
   "execution_count": null,
   "id": "b542a2c8",
   "metadata": {},
   "outputs": [],
   "source": [
    "# Checking for Multiple Data Representation of the same Categorical Values"
   ]
  },
  {
   "cell_type": "code",
   "execution_count": null,
   "id": "a7685706",
   "metadata": {},
   "outputs": [],
   "source": [
    "# Checking for Incorrect Datatypes"
   ]
  },
  {
   "cell_type": "code",
   "execution_count": null,
   "id": "d932e268",
   "metadata": {},
   "outputs": [],
   "source": [
    "# Checking for Missing/Null Values"
   ]
  },
  {
   "cell_type": "code",
   "execution_count": null,
   "id": "053be0d5",
   "metadata": {},
   "outputs": [],
   "source": [
    "# Checking for Duplicate Data"
   ]
  },
  {
   "cell_type": "code",
   "execution_count": null,
   "id": "14719175",
   "metadata": {},
   "outputs": [],
   "source": [
    "# Checking for Inconsistent Data"
   ]
  },
  {
   "cell_type": "code",
   "execution_count": null,
   "id": "a5b2ba7c",
   "metadata": {},
   "outputs": [],
   "source": [
    "# Checking for Outliers"
   ]
  },
  {
   "cell_type": "markdown",
   "id": "d4f1f871",
   "metadata": {},
   "source": [
    "## Matplotlibs Charts Visualization"
   ]
  },
  {
   "cell_type": "markdown",
   "id": "774fcc47",
   "metadata": {},
   "source": [
    "### EDA Question 1\n",
    "\n",
    "Both formulaion and answer in the same cell"
   ]
  },
  {
   "cell_type": "markdown",
   "id": "851916b8",
   "metadata": {},
   "source": [
    "### EDA Question 2"
   ]
  },
  {
   "cell_type": "markdown",
   "id": "96c384ab",
   "metadata": {},
   "source": [
    "### EDA Question 3"
   ]
  }
 ],
 "metadata": {
  "kernelspec": {
   "display_name": "base",
   "language": "python",
   "name": "python3"
  },
  "language_info": {
   "codemirror_mode": {
    "name": "ipython",
    "version": 3
   },
   "file_extension": ".py",
   "mimetype": "text/x-python",
   "name": "python",
   "nbconvert_exporter": "python",
   "pygments_lexer": "ipython3",
   "version": "3.12.7"
  }
 },
 "nbformat": 4,
 "nbformat_minor": 5
}
